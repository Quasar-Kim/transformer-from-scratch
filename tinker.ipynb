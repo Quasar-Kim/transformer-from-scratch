{
 "cells": [
  {
   "cell_type": "code",
   "execution_count": 5,
   "metadata": {},
   "outputs": [],
   "source": [
    "from modules import Transformer\n",
    "import torch\n",
    "\n",
    "enc_n = 128\n",
    "dec_n = 128\n",
    "vocab_size = 2**14\n",
    "d_model = 256\n",
    "d_embed = 256\n",
    "num_decoders = 2\n",
    "num_heads = 8\n",
    "d_ff = 512\n",
    "enc_x = torch.randint(0, vocab_size, (2, enc_n))\n",
    "dec_x = torch.randint(0, vocab_size, (2, dec_n))"
   ]
  },
  {
   "cell_type": "code",
   "execution_count": 8,
   "metadata": {},
   "outputs": [],
   "source": [
    "module = Transformer(vocab_size=vocab_size, d_embed=d_embed, d_model=d_model, num_layers=num_decoders, num_heads=num_heads, d_ff=d_ff)\n",
    "torch._dynamo.reset()\n",
    "module = torch.compile(module, fullgraph=True, mode='max-autotune')\n",
    "y = module(enc_x, dec_x)"
   ]
  }
 ],
 "metadata": {
  "language_info": {
   "name": "python"
  },
  "orig_nbformat": 4
 },
 "nbformat": 4,
 "nbformat_minor": 2
}
