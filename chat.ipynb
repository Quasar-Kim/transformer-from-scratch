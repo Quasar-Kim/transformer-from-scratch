{
 "cells": [
  {
   "cell_type": "code",
   "execution_count": 1,
   "metadata": {},
   "outputs": [
    {
     "name": "stderr",
     "output_type": "stream",
     "text": [
      "/home/quasarkim/.cache/pypoetry/virtualenvs/learn-deep-learning-cIGJ-2IH-py3.10/lib/python3.10/site-packages/tqdm/auto.py:21: TqdmWarning: IProgress not found. Please update jupyter and ipywidgets. See https://ipywidgets.readthedocs.io/en/stable/user_install.html\n",
      "  from .autonotebook import tqdm as notebook_tqdm\n"
     ]
    }
   ],
   "source": [
    "import torch\n",
    "from tokenizer import WordPieceTokenizer\n",
    "from model import LitTransformer\n",
    "\n",
    "tokenizer = WordPieceTokenizer()\n",
    "model = LitTransformer(\n",
    "    tokenizer=tokenizer,\n",
    "    vocab_size=2**14, # 16384\n",
    "    d_embed=256,\n",
    "    d_model=256,\n",
    "    num_layers=2,\n",
    "    num_heads=8,\n",
    "    d_ff=512,\n",
    "    dropout_rate=0.1,\n",
    "    lr=0.0014,\n",
    "    num_warmup_steps=4000\n",
    ")\n",
    "\n",
    "def ask_question(text: str):\n",
    "    answer = model.ask_question({\n",
    "        'enc_x': torch.tensor([tokenizer.encode(text)]),\n",
    "        'dec_x': torch.tensor([[tokenizer.bos_token_id]])\n",
    "    })\n",
    "    return answer\n"
   ]
  },
  {
   "cell_type": "code",
   "execution_count": 2,
   "metadata": {},
   "outputs": [
    {
     "name": "stdout",
     "output_type": "stream",
     "text": [
      "max length exceeded\n"
     ]
    },
    {
     "data": {
      "text/plain": [
       "'이상형일 익숙해질 발렌타인데이터가 받아들여요 부딪혔 가글 즐기면 헐었어 식사또 헤어짐은 이쁜 편한거 기다리는 아까운갯 일어 쉬운게꼼대사 당신을 어려 의미부여 흐 맞나갯 모르겠다 우리집댔'"
      ]
     },
     "execution_count": 2,
     "metadata": {},
     "output_type": "execute_result"
    }
   ],
   "source": [
    "ask_question('영화보러 갈래?')"
   ]
  }
 ],
 "metadata": {
  "kernelspec": {
   "display_name": "learn-deep-learning-cIGJ-2IH-py3.10",
   "language": "python",
   "name": "python3"
  },
  "language_info": {
   "codemirror_mode": {
    "name": "ipython",
    "version": 3
   },
   "file_extension": ".py",
   "mimetype": "text/x-python",
   "name": "python",
   "nbconvert_exporter": "python",
   "pygments_lexer": "ipython3",
   "version": "3.10.10"
  },
  "orig_nbformat": 4
 },
 "nbformat": 4,
 "nbformat_minor": 2
}
