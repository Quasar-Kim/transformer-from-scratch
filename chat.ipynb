{
 "cells": [
  {
   "cell_type": "code",
   "execution_count": 1,
   "metadata": {},
   "outputs": [
    {
     "name": "stderr",
     "output_type": "stream",
     "text": [
      "/home/quasarkim/.cache/pypoetry/virtualenvs/learn-deep-learning-cIGJ-2IH-py3.10/lib/python3.10/site-packages/tqdm/auto.py:21: TqdmWarning: IProgress not found. Please update jupyter and ipywidgets. See https://ipywidgets.readthedocs.io/en/stable/user_install.html\n",
      "  from .autonotebook import tqdm as notebook_tqdm\n"
     ]
    }
   ],
   "source": [
    "import torch\n",
    "from tokenizer import WordPieceTokenizer\n",
    "from model import LitTransformer\n",
    "\n",
    "tokenizer = WordPieceTokenizer()\n",
    "model = LitTransformer.load_from_checkpoint('artifacts/model-7lcznp0m:v2/model.ckpt', tokenizer=tokenizer)\n",
    "\n",
    "def ask_question(text: str):\n",
    "    answer = model.ask_question({\n",
    "        'enc_x': torch.tensor([tokenizer.encode(text)]),\n",
    "        'dec_x': torch.tensor([[tokenizer.bos_token_id]])\n",
    "    })\n",
    "    return answer\n"
   ]
  },
  {
   "cell_type": "code",
   "execution_count": 18,
   "metadata": {},
   "outputs": [
    {
     "name": "stdout",
     "output_type": "stream",
     "text": [
      "got eos token\n"
     ]
    },
    {
     "data": {
      "text/plain": [
       "'잘 될 거예요. [EOS]'"
      ]
     },
     "execution_count": 18,
     "metadata": {},
     "output_type": "execute_result"
    }
   ],
   "source": [
    "ask_question('깨끗하게 보내야 하는데')"
   ]
  }
 ],
 "metadata": {
  "kernelspec": {
   "display_name": "learn-deep-learning-cIGJ-2IH-py3.10",
   "language": "python",
   "name": "python3"
  },
  "language_info": {
   "codemirror_mode": {
    "name": "ipython",
    "version": 3
   },
   "file_extension": ".py",
   "mimetype": "text/x-python",
   "name": "python",
   "nbconvert_exporter": "python",
   "pygments_lexer": "ipython3",
   "version": "3.10.10"
  },
  "orig_nbformat": 4
 },
 "nbformat": 4,
 "nbformat_minor": 2
}
