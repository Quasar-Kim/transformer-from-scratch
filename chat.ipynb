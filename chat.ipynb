{
 "cells": [
  {
   "cell_type": "code",
   "execution_count": 7,
   "metadata": {},
   "outputs": [],
   "source": [
    "import torch\n",
    "from tokenizer import WordPieceTokenizer\n",
    "from model import LitTransformer\n",
    "\n",
    "tokenizer = WordPieceTokenizer()\n",
    "model = LitTransformer.load_from_checkpoint('artifacts/model-ijl939ns:v9/model.ckpt', tokenizer=tokenizer)\n",
    "\n",
    "def ask_question(text: str):\n",
    "    answer = model.ask_question({\n",
    "        'enc_x': torch.tensor([tokenizer.encode(text)]),\n",
    "        'dec_x': torch.tensor([[tokenizer.bos_token_id]])\n",
    "    })\n",
    "    return answer\n"
   ]
  }
 ],
 "metadata": {
  "kernelspec": {
   "display_name": "learn-deep-learning-cIGJ-2IH-py3.10",
   "language": "python",
   "name": "python3"
  },
  "language_info": {
   "codemirror_mode": {
    "name": "ipython",
    "version": 3
   },
   "file_extension": ".py",
   "mimetype": "text/x-python",
   "name": "python",
   "nbconvert_exporter": "python",
   "pygments_lexer": "ipython3",
   "version": "3.10.10"
  },
  "orig_nbformat": 4
 },
 "nbformat": 4,
 "nbformat_minor": 2
}
